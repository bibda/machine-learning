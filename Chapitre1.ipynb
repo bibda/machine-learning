{
 "cells": [
  {
   "cell_type": "markdown",
   "metadata": {},
   "source": [
    "<br><br>\n",
    "# <center>Chapitre 1 : Introduction aux Machine Learning</center>\n",
    "<center>Email : <a href='mailto:madani.a@ucd.ac.ma'>madani.a@ucd.ac.ma</a></center>\n",
    "<img src=\"images/robot.png\">\n",
    "## Introduction\n",
    "<p>\n",
    "Pour résoudre un problème sur un ordinateur, nous avons besoin d'un algorithme. Un algorithme est une séquence d'instructions qui devrait être effectuée pour transformer une entrée en une sortie. Par exemple, on peut concevoir un algorithme pour trier des nombres. L'entrée est un ensemble de nombres et la sortie est une liste ordonnée contenant ces nombres. Pour la même tâche, il peut y avoir différents algorithmes et nous pouvons être intéressé à trouver le plus efficace en terme de temps d'exécution et de capacité de mémoire.\n",
    "</p>\n",
    "<p>\n",
    "Pour certaines tâches, cependant, nous n'avons pas d'algorithmes. Par exemple, pour distinguer des spams des emails légitimes. Dans ce cas, nous savons que l'entrée est un document email qui, dans le cas le plus simple, est un fichier de caractères. Nous savons aussi que la sortie est une réponse de la forme oui ou non, indiquant si le message est un spam ou non. Mais, nous ne savons pas comment transformer l'entrée (l'email dans notre cas) à la sortie (span ou non).\n",
    "</p>\n",
    "<p>\n",
    "Ce qui nous manque dans la connaissance, nous le compensons dans les données. Nous pouvons facilement compiler des milliers de messages d'exemple dont certains sont des spam et ce que nous voulons, c'est \"apprendre\" ce qui les rend indésirables. En d'autres termes, nous aimerions que l'ordinateur (machine) extraie automatiquement l'algorithme pour réaliser cette tâche.\n",
    "</p>\n",
    "<p>\n",
    "En 1959, Arthur Samuel a define le terme de machine learning comme <i>\"Field of study that gives computers the ability to learn without being explicitly programmed\"</i>.\n",
    "</p>\n",
    "## Types de problèmes et de tâches\n",
    "Les tâches de machine learning sont généralement classées en deux grandes catégories. Ce sont :\n",
    "<ol>\n",
    "<li>Apprentissage supervisé : On fournit à l'ordinateur des exemples d'entrées et leurs sorties souhaitées, et le but est de déduire une règle générale qui mappe les entrées aux sorties. Par exemple, étant donné un email, on veut prédire s'il s'agit d'un un \"spam\" ou non<br>\n",
    "<img src=\"images/spam_filter.png\">\n",
    "Un apprentissage supervisé peut a son tour être :</li>\n",
    "    <ul>\n",
    "        <li>Une Classification, quand les labels sont discrets</li>\n",
    "        <li>Une Régression, quand les labels sont continues</li>\n",
    "    </ul>\n",
    "<li>Apprentissage non supervisé: aucune étiquette n'est donnée à l’algorithme d'apprentissage. L’algorithme doit trouver seul une relation structurelle dans son entrée. </li>\n",
    "</ol>\n",
    "<img src=\"images/clustering.png\">\n",
    "\n"
   ]
  }
 ],
 "metadata": {
  "kernelspec": {
   "display_name": "Python 3",
   "language": "python",
   "name": "python3"
  },
  "language_info": {
   "codemirror_mode": {
    "name": "ipython",
    "version": 3
   },
   "file_extension": ".py",
   "mimetype": "text/x-python",
   "name": "python",
   "nbconvert_exporter": "python",
   "pygments_lexer": "ipython3",
   "version": "3.6.3"
  }
 },
 "nbformat": 4,
 "nbformat_minor": 2
}
